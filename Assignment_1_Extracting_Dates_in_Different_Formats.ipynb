{
 "cells": [
  {
   "cell_type": "markdown",
   "metadata": {},
   "source": [
    "---\n",
    "\n",
    "_You are currently looking at **version 1.1** of this notebook. To download notebooks and datafiles, as well as get help on Jupyter notebooks in the Coursera platform, visit the [Jupyter Notebook FAQ](https://www.coursera.org/learn/python-text-mining/resources/d9pwm) course resource._\n",
    "\n",
    "---"
   ]
  },
  {
   "cell_type": "markdown",
   "metadata": {},
   "source": [
    "# Assignment 1\n",
    "\n",
    "In this assignment, you'll be working with messy medical data and using regex to extract relevant infromation from the data. \n",
    "\n",
    "Each line of the `dates.txt` file corresponds to a medical note. Each note has a date that needs to be extracted, but each date is encoded in one of many formats.\n",
    "\n",
    "The goal of this assignment is to correctly identify all of the different date variants encoded in this dataset and to properly normalize and sort the dates. \n",
    "\n",
    "Here is a list of some of the variants you might encounter in this dataset:\n",
    "* 04/20/2009; 04/20/09; 4/20/09; 4/3/09\n",
    "* Mar-20-2009; Mar 20, 2009; March 20, 2009;  Mar. 20, 2009; Mar 20 2009;\n",
    "* 20 Mar 2009; 20 March 2009; 20 Mar. 2009; 20 March, 2009\n",
    "* Mar 20th, 2009; Mar 21st, 2009; Mar 22nd, 2009\n",
    "* Feb 2009; Sep 2009; Oct 2010\n",
    "* 6/2008; 12/2009\n",
    "* 2009; 2010\n",
    "\n",
    "Once you have extracted these date patterns from the text, the next step is to sort them in ascending chronological order accoring to the following rules:\n",
    "* Assume all dates in xx/xx/xx format are mm/dd/yy\n",
    "* Assume all dates where year is encoded in only two digits are years from the 1900's (e.g. 1/5/89 is January 5th, 1989)\n",
    "* If the day is missing (e.g. 9/2009), assume it is the first day of the month (e.g. September 1, 2009).\n",
    "* If the month is missing (e.g. 2010), assume it is the first of January of that year (e.g. January 1, 2010).\n",
    "* Watch out for potential typos as this is a raw, real-life derived dataset.\n",
    "\n",
    "With these rules in mind, find the correct date in each note and return a pandas Series in chronological order of the original Series' indices.\n",
    "\n",
    "For example if the original series was this:\n",
    "\n",
    "    0    1999\n",
    "    1    2010\n",
    "    2    1978\n",
    "    3    2015\n",
    "    4    1985\n",
    "\n",
    "Your function should return this:\n",
    "\n",
    "    0    2\n",
    "    1    4\n",
    "    2    0\n",
    "    3    1\n",
    "    4    3\n",
    "\n",
    "Your score will be calculated using [Kendall's tau](https://en.wikipedia.org/wiki/Kendall_rank_correlation_coefficient), a correlation measure for ordinal data.\n",
    "\n",
    "*This function should return a Series of length 500 and dtype int.*"
   ]
  },
  {
   "cell_type": "code",
   "execution_count": 3,
   "metadata": {},
   "outputs": [],
   "source": [
    "import pandas as pd\n",
    "\n",
    "doc = []\n",
    "with open('dates.txt') as file:\n",
    "    for line in file:\n",
    "        doc.append(line)\n",
    "\n",
    "df = pd.Series(doc)"
   ]
  },
  {
   "cell_type": "code",
   "execution_count": 11,
   "metadata": {},
   "outputs": [],
   "source": [
    "import re\n",
    "\n",
    "# Function extract the date from a string\n",
    "# Uses several regular expressions to look for dates in various formats\n",
    "def find_date(datestring):\n",
    "    months = {\"Jan\":\"01\",\"Feb\":\"02\",\"Mar\":\"03\",\"Apr\":\"04\",\"May\":\"05\",\"Jun\":\"06\",\"Jul\":\"07\",\"Aug\":\"08\",\"Sep\":\"09\",\n",
    "              \"Oct\":\"10\",\"Nov\":\"11\",\"Dec\":\"12\"}\n",
    "    m = re.search(r\"(\\d{1,2})[, \\/-](\\d{1,2})[, \\/-]((\\d{2}){1,3})\",datestring)\n",
    "    if m:\n",
    "        return (('19' if len(m.group(3)) == 2 else '') + m.group(3) + ('0' if len(m.group(1)) == 1 else '') \n",
    "                + m.group(1) + ('0' if len(m.group(2)) == 1 else '') + m.group(2))\n",
    "    \n",
    "    m = re.search(r\"(\\d{1,2})[, \\/-]+((Jan|Feb|Mar|Apr|May|Jun|Jul|Aug|Sep|Oct|Nov|Dec)[a-z\\.]*)[, \\/-]+((\\d{2}){1,3})\",datestring)\n",
    "    if m:\n",
    "        return (('19' if len(m.group(4)) == 2 else '') + m.group(4) + months[m.group(3)]\n",
    "               + ('0' if len(m.group(1)) == 1 else '') + m.group(1))\n",
    "    \n",
    "    m = re.search(r\"((Jan|Feb|Mar|Apr|May|Jun|Jul|Aug|Sep|Oct|Nov|Dec)[a-z\\.]*)[, \\/-]+(\\d{1,2})(?:(?:th|st|nd)*)[, \\/-]+((\\d{2}){1,3})\",datestring)\n",
    "    #print(m.groups())\n",
    "    if m:\n",
    "        \n",
    "        return (('19' if len(m.group(4)) == 2 else '') + m.group(4) + months[m.group(2)]\n",
    "               + (('0' if len(m.group(3)) == 1 else '')  + m.group(3) if m.group(3) is not None else '01'))\n",
    "    \n",
    "    m = re.search(r\"((Jan|Feb|Mar|Apr|May|Jun|Jul|Aug|Sep|Oct|Nov|Dec)[a-z\\.]*)[, \\/-]+((\\d{2}){1,3})\",datestring)\n",
    "    if m:\n",
    "        \n",
    "        return (('19' if len(m.group(3)) == 2 else '') + m.group(3) + months[m.group(2)]\n",
    "               + '01')\n",
    "    \n",
    "    m = re.search(r\"(\\d{1,2})[, \\/-]((\\d{2}){1,3})\",datestring)\n",
    "    \n",
    "    if m:\n",
    "        \n",
    "        return (('19' if len(m.group(2)) == 2 else '') + m.group(2) + ('0' if len(m.group(1)) == 1 else '') \n",
    "                + m.group(1)+'01')\n",
    "    \n",
    "    m = re.search(r\"(\\d{4})\",datestring)\n",
    "    if m:\n",
    "        \n",
    "        return (m.group(1)+'0101')\n",
    "    \n",
    "    else:\n",
    "        return \"0\""
   ]
  },
  {
   "cell_type": "code",
   "execution_count": 18,
   "metadata": {},
   "outputs": [
    {
     "name": "stdout",
     "output_type": "stream",
     "text": [
      "String: 6/18/85 Primary Care Doctor: --> Date: 19850618\n",
      "String: 9/22/89 CPT Code: 90792: With medical services --> Date: 19890922\n",
      "String: \"In the context of the patient's work up, she had Neuropsychological  testing 5/24/91.  She was referred because of her cognitive decline and symptoms of motor dysfunction to help characterize her current functioning. : --> Date: 19910524\n",
      "String: 12/5/87 Total time of visit (in minutes): --> Date: 19871205\n",
      "String: 10/05/97 CPT Code: 90791: No medical services --> Date: 19971005\n",
      "String: .10 Sep 2004 - Intake at EEC for IOP but did not follow up --> Date: 20040910\n",
      "String: 22 June 1990 Medical History: --> Date: 19900622\n",
      "String: see above and APS eval of 26 May 2010 Education Education Level: College Grad --> Date: 20100526\n",
      "String: father was depressed inpatient at DFC December 23, 1999 Family History of Substance Abuse: Yes --> Date: 19991223\n",
      "String: See previous - Parking garage incident January 07, 1991. --> Date: 19910107\n",
      "String: December 1998 Primary Care Doctor: --> Date: 19981201\n",
      "String: April 1986 Primary Care Doctor: --> Date: 19860401\n",
      "String: S/p colectomy in Dec 1992.Problems ANXIETY : Dr. Tatiana, KWMC, klonapin for sleep, propranolol helps at night --> Date: 19921201\n",
      "String: . Once off Cymbalta, mood was stable and good, she lost 80 lbs (on high protein Dukan diet), started biking, active w/ friends etc until October 1995 when she  rather abruptly noted a decline in mood, worse by the year's end, with decreased interest, (stopped making jewelry, biking, seeing friends) much more social withdrawal and decreased energy. Felt \"like a veil was drawn over me\". --> Date: 19951001\n",
      "String: A pleasant 28 yo woman with no formal psychiatric history and with a h/o SCCA of the right tongue (s/p partial glossectomy and neck dissection in 8/1974) referred to psycho-oncology for assistance with adjustment issues following recovery. The patient does not meet criteria for a major mood or anxiety disorder. She is not at imminent risk of harm to self or others. She would benefit from psychotherapy to help her integrate her experience of cancer and the break-up of her engagement, and to think through how to continue to create a life for herself moving forward. --> Date: 19740801\n",
      "String: 2/1999; 472 ms re QTcPertinent Medical Review of Systems Constitutional: --> Date: 19990201\n",
      "String: . Depression- Since 12/2014 she has noticed mood being dampended and accompanied by neurovegetative sx of low energy, some anhedonia, middle insomnia, low appetite, weight gain of 5-10 # in the last year, social isolation, indecisiveness, reduced concentration, guilty thoughts, and helplessness. SHe does not recall depressive episodes in the past. Denies hopeless thinking and denies SI/HI/SIB. Denies prior hx of safety related concenrs. She denies hx of manic sx. She no longer enjoys her job. She is able to perform her job but reports she does not derive much excitement and enjoyment from doing challenging work. She would like to change her job and possibly make a career change. She is considering moving back home to Montana with spouse but is anxious and worried about change. --> Date: 20141201\n",
      "String: Retired in 11/1984 after teaching for 30 yearsLiving Situation Current Living Situation (Including type of dwelling and who patient lives with): --> Date: 19841101\n",
      "String: Reports MRI of brain done 12/2004 at Gravette Medical Center was WNLPrior EEG: --> Date: 20041201\n",
      "String: 1989 Family Psych History: Family History of Suicidal Behavior: Ideation/Threat(s) --> Date: 19890101\n"
     ]
    }
   ],
   "source": [
    "# We look a few sample sentences to extract the dates. \n",
    "\n",
    "for i in range(1,500,25):\n",
    "    print(\"String: {0} --> Date: {1}\".format(str.strip(df[i]),find_date(df[i])))"
   ]
  },
  {
   "cell_type": "code",
   "execution_count": 19,
   "metadata": {},
   "outputs": [
    {
     "data": {
      "text/plain": [
       "0       9\n",
       "1      84\n",
       "2       2\n",
       "3      53\n",
       "4      28\n",
       "5     474\n",
       "6     153\n",
       "7      13\n",
       "8     129\n",
       "9      98\n",
       "10    111\n",
       "11    225\n",
       "12     31\n",
       "13    171\n",
       "14    191\n",
       "15    486\n",
       "16    335\n",
       "17    415\n",
       "18     36\n",
       "19    405\n",
       "dtype: int64"
      ]
     },
     "execution_count": 19,
     "metadata": {},
     "output_type": "execute_result"
    }
   ],
   "source": [
    "# Function to sort all the dates found in all the 500 lines of text and return a sorted order of indices\n",
    "def date_sorter():\n",
    "    datelist = pd.Series(pd.Series(data=list(map(find_date,df))).sort_values().index)\n",
    "    return datelist           \n",
    "date_sorter().head(20)"
   ]
  },
  {
   "cell_type": "code",
   "execution_count": null,
   "metadata": {
    "collapsed": true
   },
   "outputs": [],
   "source": []
  }
 ],
 "metadata": {
  "coursera": {
   "course_slug": "python-text-mining",
   "graded_item_id": "LvcWI",
   "launcher_item_id": "krne9",
   "part_id": "Mkp1I"
  },
  "kernelspec": {
   "display_name": "Python 3",
   "language": "python",
   "name": "python3"
  },
  "language_info": {
   "codemirror_mode": {
    "name": "ipython",
    "version": 3
   },
   "file_extension": ".py",
   "mimetype": "text/x-python",
   "name": "python",
   "nbconvert_exporter": "python",
   "pygments_lexer": "ipython3",
   "version": "3.6.1"
  }
 },
 "nbformat": 4,
 "nbformat_minor": 2
}
